{
 "cells": [
  {
   "cell_type": "markdown",
   "metadata": {},
   "source": [
    "**NOTE**: When your Jupyter notebook is open, double-click on this Markdown cell! You can delete this text and put your answer to the previous problem in here."
   ]
  },
  {
   "cell_type": "code",
   "execution_count": 2,
   "metadata": {},
   "outputs": [],
   "source": [
    "# Definitions for this lab...\n",
    "\n",
    "# PMF - (Probability Mass Function) - Discrete distribution function returning the probability\n",
    "# that a random variables equals a SPECIFIC value\n",
    "\n",
    "# CDF - (Cumulative Distribution Function) - Probability that a random variable is less than or equal\n",
    "# to a given value\n",
    "    # Discrete - As a step function (plt.step). It increases at each posible value of the rando variable\n",
    "    # Contrinuous - It's the integral of the PDF from negative infinity to the given value\n",
    "\n",
    "# PDF - (Probability Density Function) - Continuous distribution function returning the relative\n",
    "# likelihood of a random variable taking on a given value."
   ]
  },
  {
   "cell_type": "markdown",
   "metadata": {},
   "source": [
    "# \"Fun with Loot Boxes\" Lab\n",
    "\n",
    "> Author: Caroline Schmitt, Matt Brems\n",
    "\n",
    "### Scenario:\n",
    "\n",
    "You're an analyst for [Zynga](https://en.wikipedia.org/wiki/Zynga), a gaming studio working on an event for an MMO (massively multiplayer online) game. This event is going to include **loot boxes**.\n",
    "\n",
    "<img src=\"https://vignette.wikia.nocookie.net/2007scape/images/0/06/Culinaromancer%27s_chest.png/revision/latest?cb=20180403231423\" alt=\"drawing\" width=\"150\"/> \n",
    "\n",
    "A loot box is basically a treasure chest in a game. This loot box can be opened to reveal a variety of items: some items are very rare and valuable, other items are common and less valuable. (You may consult [the esteemed Wikipedia](https://en.wikipedia.org/wiki/Loot_box) for a more extensive definition.)\n",
    "\n",
    "In our specific game, suppose that loot boxes can be obtained in one of two ways: \n",
    "- After every three hours of playing the game, a user will earn one loot box.\n",
    "- If the user wishes to purchase a loot box, they may pay $1 (in real money!) for a loot box.\n",
    "\n",
    "These loot boxes are very good for our business!\n",
    "- If a player earns a loot box, it means they are spending lots of time on the game. This often leads to advertisement revenue, they may tell their friends to join the game, etc.\n",
    "- If the player purchases a loot box, it means we've earned $1 from our customer.\n",
    "\n",
    "Suppose each loot box is opened to reveal either:\n",
    "- magical elixir (super rare, very valuable), or\n",
    "- nothing.\n",
    "\n",
    "Whether each loot box contains the elixir or nothing is **random**. Our boss wants some guidance on what sort of randomness to use on these loot boxes! \n",
    "- If the magical elixir is too rare, then users may not be motivated to try to get them, because they believe they'll never find the magical elixir.\n",
    "- If the magical elixir is too common, then users may not be motivated to try to get them, because the game has so much of the magical elixir that it isn't worthwhile to try to get it.\n",
    "\n",
    "However, our boss isn't a math-y type person! When explaining things to our boss, we need to explain the impact of our choices on the game as concretely as possible.\n",
    "\n",
    "### Version 1\n",
    "In our first version of the game, we'll say that loot boxes contain magical elixir 15% of the time and nothing 85% of the time.\n",
    "\n",
    "#### 1. Our boss asks, \"If a user buys 100 loot boxes, how many elixirs will they get?\" How would you respond?"
   ]
  },
  {
   "cell_type": "code",
   "execution_count": null,
   "metadata": {},
   "outputs": [],
   "source": [
    "# Anser: We can't guarantee how many elixirs one person woulf get. It's possible, though unlikely, that\n",
    "# a player who is very lucky gets 100 elixirs out of 100 loot boxes. It's also possible, though unlikely,\n",
    "# that a play how is very unlucky gets none. The expected value is 15 BUT that does not in any way mean\n",
    "# every player gets 15 out of every 100 loot boxes."
   ]
  },
  {
   "cell_type": "code",
   "execution_count": 4,
   "metadata": {},
   "outputs": [
    {
     "name": "stdout",
     "output_type": "stream",
     "text": [
      "Expected number of elixirs from 100 loot boxes: 15.0\n"
     ]
    }
   ],
   "source": [
    "# Expected Value (EV) is the average outcome of an event if repeated many times.\n",
    "# It's calculated by multiplying each possible outcome by it's probability and summing\n",
    "# these products together.\n",
    "# EV helps predict long-term results in situation involving chance.\n",
    "\n",
    "def calculate_elixir_ev(elixir_probability, num_boxes):\n",
    "    return elixir_probability * num_boxes\n",
    "\n",
    "# Game parameters:\n",
    "elixir_prob = 0.15 # 15 chance of getting an elixir\n",
    "nothing_prob = 0.85 # 85 chance of not getting an elixir\n",
    "num_loot_boxes = 100\n",
    "\n",
    "expected_elixirs = calculate_elixir_ev(elixir_prob, num_loot_boxes)\n",
    "print(f'Expected number of elixirs from {num_loot_boxes} loot boxes: {expected_elixirs}')"
   ]
  },
  {
   "cell_type": "code",
   "execution_count": 1,
   "metadata": {},
   "outputs": [],
   "source": [
    "# EV and probability differ in that:\n",
    "\n",
    "# Probability measures the likelihood of a specific outcome occurring, expressed as a number\n",
    "# between 0 and 1 or as a percentage.\n",
    "\n",
    "# EV quantifies the average result over many trials, often expressed in units (items, dollars, baht)\n",
    "# rather than as a probability."
   ]
  },
  {
   "cell_type": "markdown",
   "metadata": {},
   "source": [
    "#### 2. Our boss asks, \"How many loot boxes does someone have to purchase in order to definitely get elixir?\" How would you respond?"
   ]
  },
  {
   "cell_type": "markdown",
   "metadata": {},
   "source": [
    "**NOTE**: When your Jupyter notebook is open, double-click on this Markdown cell! You can delete this text and put your answer to the previous problem in here."
   ]
  },
  {
   "cell_type": "code",
   "execution_count": null,
   "metadata": {},
   "outputs": [],
   "source": [
    "# Anser: Someone could theoretically purchase an infinite of loot boxes and never get an elixir.\n",
    "# We can't guarantee how may loot boxes one would need to purchase until they find an elixir.\n",
    "\n",
    "# BUT, if each box has a 15% chance of obtaining an elixir, regardless of previous loot box purchases or openings, then, ON AVERAGE, a user would need \n",
    "# to open about 7 loot boxes to get an elixir. BUT, again, this is just an average. Some users will need fewer loot boxes to get an elixir\n",
    "# and sume will need more. The actual number for any given user can vary\n",
    "# widely due to the RANDOM nature of the process."
   ]
  },
  {
   "cell_type": "markdown",
   "metadata": {},
   "source": [
    "#### 3. Our boss asks, \"If a user earns 100 loot boxes, what is the chance that a user gets more than 20 elixirs?\" This is a bit more complicated, so let's break it down before answering."
   ]
  },
  {
   "cell_type": "code",
   "execution_count": null,
   "metadata": {},
   "outputs": [],
   "source": [
    "# chance "
   ]
  },
  {
   "cell_type": "markdown",
   "metadata": {},
   "source": [
    "#### 3a. Let's suppose my random variable $X$ counts up how many elixirs I observe out of my 100 loot boxes. Why is $X$ a discrete random variable?"
   ]
  },
  {
   "cell_type": "markdown",
   "metadata": {},
   "source": [
    "**NOTE**: When your Jupyter notebook is open, double-click on this Markdown cell! You can delete this text and put your answer to the previous problem in here."
   ]
  },
  {
   "cell_type": "code",
   "execution_count": 6,
   "metadata": {},
   "outputs": [],
   "source": [
    "# Discrete Random Variable - coutable number of outcomse; distinct values\n",
    "\n",
    "# Coutinuous Random Variable - uncountable number of outcomes\n",
    "\n",
    "# X if discrete, can take on 1, 2, 3, 4, 5, etc. These are countable.\n",
    "# We can't 2.5 loot boxes; we can't 3.7 loot boxes"
   ]
  },
  {
   "cell_type": "markdown",
   "metadata": {},
   "source": [
    "#### 3b. Recall our discrete distributions: discrete uniform, Bernoulli, binomial, Poisson. Let's suppose my random variable $X$ counts up how many elixirs I observe out of my 100 loot boxes. What distribution is best suited for $X$? Why?\n",
    "- Hint: It may help to consider getting the magical elixir a \"success\" and getting nothing a \"failure.\"\n",
    "- Two outcomes: elixir (success) or no elixir (failure)"
   ]
  },
  {
   "cell_type": "markdown",
   "metadata": {},
   "source": [
    "**NOTE**: When your Jupyter notebook is open, double-click on this Markdown cell! You can delete this text and put your answer to the previous problem in here."
   ]
  },
  {
   "cell_type": "code",
   "execution_count": 7,
   "metadata": {},
   "outputs": [],
   "source": [
    "# - Two outcomes: elixir (success) or no elixir (failure)\n",
    "\n",
    "# Discreate Uniform - each outcome is equally likely\n",
    "# Burnoulli - number of successes in one trial. But we have 100 trials here...\n",
    "# Binomial - number of success in 'n' number of trials\n",
    "# Poission - binomial + time\n",
    "\n",
    "# Winner: Binomial"
   ]
  },
  {
   "cell_type": "markdown",
   "metadata": {},
   "source": [
    "#### 3c. Our boss asks, \"If a user earns 100 loot boxes, what is the chance that a user gets more than 20 elixirs?\" Use the probability mass function to answer the boss' question."
   ]
  },
  {
   "cell_type": "code",
   "execution_count": 2,
   "metadata": {},
   "outputs": [],
   "source": [
    "# PMF - (Probability Mass Function) - Discrete distribution function returning the probability\n",
    "# that a random variables equals a SPECIFIC value\n",
    "\n",
    "# Summation\n",
    "# For loop - Why? range of values"
   ]
  },
  {
   "cell_type": "code",
   "execution_count": 5,
   "metadata": {},
   "outputs": [
    {
     "name": "stdout",
     "output_type": "stream",
     "text": [
      "0.06631976581888208\n"
     ]
    }
   ],
   "source": [
    "# Best\n",
    "from scipy import stats\n",
    "p = 0.15 # Probability of success (getting elixir)\n",
    "n = 100 # Number of trials (loot boxes)\n",
    "\n",
    "X = stats.binom(n, p) # X is the binomial distribution\n",
    "\n",
    "P = 1 # Counter - set the intial P\n",
    "for x in range(20 + 1):\n",
    "    P = P - X.pmf(x)\n",
    "# Running a for loop to subtract probability of gettig x elixirs where x is in 0,1,2,..., 20\n",
    "\n",
    "print(P)"
   ]
  },
  {
   "cell_type": "code",
   "execution_count": 6,
   "metadata": {},
   "outputs": [
    {
     "name": "stdout",
     "output_type": "stream",
     "text": [
      "The probability of getting more than 20 elixirs from 100 loot boxes is 0.0663\n"
     ]
    }
   ],
   "source": [
    "# \"If a user earns 100 loot boxes, what is the chance that a user gets more than 20 elixirs?\"\n",
    "def calculate_elixir_probability():\n",
    "    return sum(stats.binom.pmf(x, n=100, p=0.15) for x in range(21, 101))\n",
    "\n",
    "result = calculate_elixir_probability()\n",
    "print(f\"The probability of getting more than 20 elixirs from 100 loot boxes is {result:.4f}\")"
   ]
  },
  {
   "cell_type": "code",
   "execution_count": 18,
   "metadata": {},
   "outputs": [
    {
     "name": "stdout",
     "output_type": "stream",
     "text": [
      "Probability of getting more than 20 elixirs: 0.0663\n",
      "Probability of getting more than 20 elixirs: 6.63%\n"
     ]
    }
   ],
   "source": [
    "# Used the cdf\n",
    "# CDF - (Cumulative Distribution Function) - Probability that a random variable is less than or equal\n",
    "# to a given value\n",
    "\n",
    "print(f\"Probability of getting more than 20 elixirs: {1 - stats.binom.cdf(20, 100, 0.15):.4f}\")\n",
    "# or...\n",
    "print(f\"Probability of getting more than 20 elixirs: {(1 - stats.binom.cdf(20, 100, 0.15))*100:.2f}%\")"
   ]
  },
  {
   "cell_type": "markdown",
   "metadata": {},
   "source": [
    "#### 3d. Our boss asks, \"If a user earns 100 loot boxes, what is the chance that a user gets more than 20 elixirs?\" Use the cumulative distribution function to answer the boss' question."
   ]
  },
  {
   "cell_type": "code",
   "execution_count": 7,
   "metadata": {},
   "outputs": [
    {
     "name": "stdout",
     "output_type": "stream",
     "text": [
      "Probability of getting more than 20 elixirs: 0.0663\n",
      "Probability of getting more than 20 elixirs: 6.63%\n"
     ]
    }
   ],
   "source": [
    "# Used the cdf\n",
    "# CDF - (Cumulative Distribution Function) - Probability that a random variable is less than or equal \n",
    "# to a given value\n",
    "\n",
    "     # Discrete - As a step function (plt.step). It increases at each possible value of the random variable\n",
    "\n",
    "print(f\"Probability of getting more than 20 elixirs: {1 - stats.binom.cdf(20, 100, 0.15):.4f}\")\n",
    "# or...\n",
    "print(f\"Probability of getting more than 20 elixirs: {(1 - stats.binom.cdf(20, 100, 0.15))*100:.2f}%\")"
   ]
  },
  {
   "cell_type": "markdown",
   "metadata": {},
   "source": [
    "#### 3e. Our boss asks, \"If a user earns 100 loot boxes, what is the chance that a user gets more than 20 elixirs?\" Answer your boss' question. *Remember that your boss is not a math-y person!*"
   ]
  },
  {
   "cell_type": "code",
   "execution_count": null,
   "metadata": {},
   "outputs": [],
   "source": [
    "# If user were to earn or buy 100 loot boxes, there's about a ~6.6% chance that they get\n",
    "# more then 20 elixirs\n",
    "\n",
    "# Suppose there are 25,000 active users currently. If all 25,000 users earned 100 loot boxes,\n",
    "# then we expect about 1,650 of those users to get more 20 elixirs."
   ]
  },
  {
   "cell_type": "code",
   "execution_count": 20,
   "metadata": {},
   "outputs": [
    {
     "data": {
      "text/plain": [
       "1650.0"
      ]
     },
     "execution_count": 20,
     "metadata": {},
     "output_type": "execute_result"
    }
   ],
   "source": [
    "# 25_000 * 0.066"
   ]
  },
  {
   "cell_type": "code",
   "execution_count": 7,
   "metadata": {},
   "outputs": [],
   "source": [
    "#  Probability of getting more than 20 elixirs: 0.0008\n",
    "#  Anser : the probability of getting more than 20 elixirs is around 0.02 or 2%."
   ]
  },
  {
   "cell_type": "markdown",
   "metadata": {},
   "source": [
    "The probability of getting more than 20 elixirs is around 0.02 or 2%."
   ]
  },
  {
   "cell_type": "markdown",
   "metadata": {},
   "source": [
    "The chance of a user getting more than 20 elixirs depends on how likely they are to get an elixir each time. For example, if there's a 10% chance of getting an elixir in each attempt and the user tries 100 times, the probability of getting more than 20 elixirs is around 0.02 or 2%."
   ]
  },
  {
   "cell_type": "markdown",
   "metadata": {},
   "source": [
    "#### 4. Your boss wants to know how many people purchased how many loot boxes last month. \n",
    "> For example, last month, 70% of users did not purchase any loot boxes. 10% of people purchased one loot box. 5% of people purchased two loot boxes... and so on.\n",
    "\n",
    "#### 4a. Recall our discrete distributions: discrete uniform, Bernoulli, binomial, Poisson. Let's suppose my random variable $Y$ counts up how many loot boxes each person purchased through the game last month. What distribution is best suited for $Y$? Why?"
   ]
  },
  {
   "cell_type": "code",
   "execution_count": null,
   "metadata": {},
   "outputs": [],
   "source": [
    "# Poisson distribution - models the number of successes we observe in a fixed amount of time,\n",
    "# not a fixed amount of trials\n",
    "\n",
    "# The Poisson distribution is often used to model count data, especially when the events are\n",
    "# Relatively rare and con occur any number times within the given interval (last month).\n",
    "# It's flexible enough to handle the varying probabilities we see in the data, unlike the discrete\n",
    "# uniform or binomial distribution."
   ]
  },
  {
   "cell_type": "code",
   "execution_count": 8,
   "metadata": {},
   "outputs": [
    {
     "data": {
      "text/plain": [
       "185185.18518518517"
      ]
     },
     "execution_count": 8,
     "metadata": {},
     "output_type": "execute_result"
    }
   ],
   "source": [
    "# Show your work; leave your answer in a comment.\n",
    "\n",
    "revenue = 500_000\n",
    "avg_purchase = 2.7\n",
    "\n",
    "# revenue / avg_purchase = number of users\n",
    "revenue / avg_purchase"
   ]
  },
  {
   "cell_type": "code",
   "execution_count": 9,
   "metadata": {},
   "outputs": [
    {
     "name": "stdout",
     "output_type": "stream",
     "text": [
      "Number of users needed: 185,186\n"
     ]
    }
   ],
   "source": [
    "# // is Floor division\n",
    "result = int(revenue // avg_purchase + 1)\n",
    "print(f\"Number of users needed: {result:,}\")"
   ]
  },
  {
   "cell_type": "code",
   "execution_count": 10,
   "metadata": {},
   "outputs": [
    {
     "data": {
      "text/plain": [
       "185186"
      ]
     },
     "execution_count": 10,
     "metadata": {},
     "output_type": "execute_result"
    }
   ],
   "source": [
    "import math\n",
    "math.ceil(revenue / avg_purchase)"
   ]
  },
  {
   "cell_type": "code",
   "execution_count": null,
   "metadata": {},
   "outputs": [],
   "source": [
    "\n",
    "# (Round your answer up to the nearest thousand.)\n",
    "# Rounding to 186,000\n",
    "\n",
    "# round will round down effectively BUT how shall we round UP?\n",
    "#round((revenue / avg_purchase), -3)"
   ]
  },
  {
   "cell_type": "code",
   "execution_count": 11,
   "metadata": {},
   "outputs": [
    {
     "data": {
      "text/plain": [
       "186000"
      ]
     },
     "execution_count": 11,
     "metadata": {},
     "output_type": "execute_result"
    }
   ],
   "source": [
    "# Orr\n",
    "math.ceil(int(revenue/avg_purchase)/1000)*1000  # 186000"
   ]
  },
  {
   "cell_type": "code",
   "execution_count": 12,
   "metadata": {},
   "outputs": [
    {
     "data": {
      "text/plain": [
       "186000"
      ]
     },
     "execution_count": 12,
     "metadata": {},
     "output_type": "execute_result"
    }
   ],
   "source": [
    "math.floor((revenue/avg_purchase + 999) / 1000) * 1000"
   ]
  },
  {
   "cell_type": "markdown",
   "metadata": {},
   "source": [
    "**NOTE**: When your Jupyter notebook is open, double-click on this Markdown cell! You can delete this text and put your answer to the previous problem in here."
   ]
  },
  {
   "cell_type": "markdown",
   "metadata": {},
   "source": [
    "#### 4b. Suppose that, on average, your customers purchased 2.7 loot boxes last month. In order for your revenue to be at least $500,000, at least how many users would you need on your platform? (Round your answer up to the nearest thousand.) "
   ]
  },
  {
   "cell_type": "code",
   "execution_count": 21,
   "metadata": {},
   "outputs": [
    {
     "data": {
      "text/plain": [
       "185185.18518518517"
      ]
     },
     "execution_count": 21,
     "metadata": {},
     "output_type": "execute_result"
    }
   ],
   "source": [
    "# Show your work; leave your answer in a comment.\n",
    "\n",
    "revenue = 500_000\n",
    "avg_purchase = 2.7\n",
    "\n",
    "# revenue / avg_purchase = number of users\n",
    "revenue / avg_purchase"
   ]
  },
  {
   "cell_type": "code",
   "execution_count": 24,
   "metadata": {},
   "outputs": [
    {
     "name": "stdout",
     "output_type": "stream",
     "text": [
      "Number of users needed: 185,186\n"
     ]
    }
   ],
   "source": [
    "# // is Floor division\n",
    "result = int(revenue // avg_purchase + 1)\n",
    "print(f\"Number of users needed: {result:,}\")"
   ]
  },
  {
   "cell_type": "code",
   "execution_count": 25,
   "metadata": {},
   "outputs": [
    {
     "data": {
      "text/plain": [
       "185186"
      ]
     },
     "execution_count": 25,
     "metadata": {},
     "output_type": "execute_result"
    }
   ],
   "source": [
    "import math\n",
    "math.ceil(revenue / avg_purchase)"
   ]
  },
  {
   "cell_type": "code",
   "execution_count": 30,
   "metadata": {},
   "outputs": [
    {
     "data": {
      "text/plain": [
       "185000.0"
      ]
     },
     "execution_count": 30,
     "metadata": {},
     "output_type": "execute_result"
    }
   ],
   "source": [
    "# (Round your answer up to the nearest thousand.)\n",
    "# Rounding to 186,000\n",
    "\n",
    "# round will round down effectively BUT how shall we round UP?\n",
    "round((revenue / avg_purchase), -3)"
   ]
  },
  {
   "cell_type": "markdown",
   "metadata": {},
   "source": [
    "#### 4c. Assume that your platform has the numer of users you mentioned in your last answer. Suppose that your platform calls anyone who purchases 5 or more loot boxes in a month a \"high value user.\" How much money do you expect to have earned from \"high value users?\" How about \"low value users?\""
   ]
  },
  {
   "cell_type": "code",
   "execution_count": 36,
   "metadata": {},
   "outputs": [
    {
     "name": "stdout",
     "output_type": "stream",
     "text": [
      "There are 12500.225369593454 users expected to purchase 0 loot boxes.\n",
      "\n",
      " We are expected to make $0.0 from those expected to purchase 0 loot boxes\n",
      "There are 33750.60849790233 users expected to purchase 1 loot boxes.\n",
      "\n",
      " We are expected to make $33750.61 from those expected to purchase 1 loot boxes\n",
      "There are 45563.32147216814 users expected to purchase 2 loot boxes.\n",
      "\n",
      " We are expected to make $91126.64 from those expected to purchase 2 loot boxes\n",
      "There are 41006.98932495134 users expected to purchase 3 loot boxes.\n",
      "\n",
      " We are expected to make $123020.97 from those expected to purchase 3 loot boxes\n",
      "There are 27679.71779434215 users expected to purchase 4 loot boxes.\n",
      "\n",
      " We are expected to make $110718.88 from those expected to purchase 4 loot boxes\n",
      "\n",
      "We Expected to make $502,200 from 'from all users.'\n",
      "\n",
      "We Expected to make $358,617 from 'low value users.'\n",
      "\n",
      "We Expected to make $143,583 from 'high value users.'\n"
     ]
    }
   ],
   "source": [
    "# Set out total purchase amount to be 0\n",
    "\n",
    "amount = 0\n",
    "\n",
    "# Check values from 0 to 4\n",
    "for purchases in range(5):\n",
    "        # How many users purchase y loot boxes?\n",
    "        print(f\"There are {186_000 * stats.poisson(mu= 2.7).pmf(purchases)} users expected to purchase {purchases} loot boxes.\")\n",
    "        # How much money would we make from those people? (dollar amount * number of individual)\n",
    "        print(f\"\\n We are expected to make ${purchases * round(186_000 * stats.poisson(mu = 2.7).pmf(purchases), 2)} from those expected to purchase {purchases} loot boxes\")\n",
    "        # Add in the above quntity to amount\n",
    "        amount += purchases * round(186_000 * stats.poisson(mu = 2.7).pmf(purchases), 2)\n",
    "\n",
    "print(f\"\\nWe Expected to make ${round(186_000 * 2.7):,} from 'from all users.'\")\n",
    "# How much we expect to make from people buying 4 or fewer loot boxes (low value users)\n",
    "print(f\"\\nWe Expected to make ${round(amount):,} from 'low value users.'\")\n",
    "# How much we expect to make from people buying at least 5 loot boxes (high value users)\n",
    "print(f\"\\nWe Expected to make ${round(186_000 * 2.7) - round(amount):,} from 'high value users.'\")"
   ]
  },
  {
   "cell_type": "code",
   "execution_count": 13,
   "metadata": {},
   "outputs": [
    {
     "name": "stdout",
     "output_type": "stream",
     "text": [
      "$357,048\n",
      "$142,952\n"
     ]
    }
   ],
   "source": [
    "# Panda Key and Panda Handler Air\n",
    "\n",
    "# Set our total purchase amount to be 0\n",
    "total_purchase = 0\n",
    "\n",
    "# Check values from 0-4\n",
    "for x in range(4+1):\n",
    "    \n",
    "    # How many users purchase y loot boxes? (rate = 2.7 loot boxes / month)\n",
    "    amount_distribution = stats.poisson(2.7)\n",
    "    prob = amount_distribution.pmf(x)\n",
    "    \n",
    "    # How much money would we make from those people? (dollar amount * number of individual)\n",
    "    y = x*prob*result\n",
    "    \n",
    "    # Add in the above quantity to total purchase\n",
    "    total_purchase += y\n",
    "\n",
    "# How much we expect to make from people buying 4 or fewer loot boxes (low value users)\n",
    "print(f\"${total_purchase:,.0f}\")\n",
    "\n",
    "# How much we expect to make from people buying at least 5 loot boxes (high value users)\n",
    "print(f\"${500_000 - total_purchase:,.0f}\")"
   ]
  },
  {
   "cell_type": "code",
   "execution_count": 14,
   "metadata": {},
   "outputs": [
    {
     "name": "stdout",
     "output_type": "stream",
     "text": [
      "Money expect to earn from high value users is $143,689\n",
      "Money expect to earn from low value users is $358,392\n"
     ]
    }
   ],
   "source": [
    "# Jay, Kel, and Cha-aim (The triplets)\n",
    "import numpy as np\n",
    "\n",
    "roundup = 186_000\n",
    "# Use poisson, when events occur independently and an event occurring in an interval.\n",
    "outcomes = np.random.poisson(avg_purchase,int(roundup))\n",
    "\n",
    "high_value_users = [item for item in outcomes if item>=5] # Users who purchase >=5 items\n",
    "total_high_value_users =sum(high_value_users) # Get expected money earned from high value users\n",
    "\n",
    "low_value_users = sum(outcomes) - total_high_value_users \n",
    "total_low_value_users = low_value_users * 1\n",
    "\n",
    "print(f'Money expect to earn from high value users is ${total_high_value_users:,}')\n",
    "print(f'Money expect to earn from low value users is ${total_low_value_users:,}')"
   ]
  },
  {
   "cell_type": "code",
   "execution_count": 15,
   "metadata": {},
   "outputs": [
    {
     "name": "stdout",
     "output_type": "stream",
     "text": [
      "Number of low value users: 148,001\n",
      "Number of high value users: 37,999\n",
      "Expected revenue from low value users: $358,618\n",
      "Expected revenue from high value users: $143,582\n",
      "Total expected revenue: $502,200\n"
     ]
    }
   ],
   "source": [
    "\n",
    "#Fan via discussion...\n",
    "no_customer = 186_000\n",
    "ro = 2.7 # rate of occur\n",
    "customers_distribution = stats.poisson(ro)\n",
    "\n",
    "low_value_users = round(sum(customers_distribution.pmf(k) for k in range(1, 5))*no_customer)\n",
    "high_value_users = no_customer - low_value_users\n",
    "\n",
    "# Calculate expected purchases for low and high value users\n",
    "expected_purchases_low = sum(k * customers_distribution.pmf(k) for k in range(1, 5)) / sum(customers_distribution.pmf(k) for k in range(1, 5))\n",
    "expected_purchases_high = (ro * no_customer - expected_purchases_low * low_value_users) / high_value_users\n",
    "#print(expected_purchases_low)\n",
    "#print(expected_purchases_high)\n",
    "\n",
    "low_value_revenue = round(low_value_users * expected_purchases_low)\n",
    "high_value_revenue = round(high_value_users * expected_purchases_high)\n",
    "#print(low_value_revenue)\n",
    "#print(high_value_revenue)\n",
    "\n",
    "print(f'Number of low value users: {low_value_users:,}')\n",
    "print(f'Number of high value users: {high_value_users:,}')\n",
    "print(f'Expected revenue from low value users: ${low_value_revenue:,}')\n",
    "print(f'Expected revenue from high value users: ${high_value_revenue:,}')\n",
    "print(f'Total expected revenue: ${low_value_revenue + high_value_revenue:,}')\n",
    "\n",
    "# print(f'Least number of money that expect from high value users : {high_value_users * 5}')\n",
    "# #print(f'Most Number of money that expect from low value users : {low_value_users * 4}')"
   ]
  },
  {
   "cell_type": "markdown",
   "metadata": {},
   "source": [
    "#### 4d. Suppose that you want to summarize how many people purchased how many loot boxes last month for your boss. Since your boss isn't math-y, what are 2-4 summary numbers you might use to summarize this for your boss? (Your answers will vary here - use your judgment!)"
   ]
  },
  {
   "cell_type": "markdown",
   "metadata": {},
   "source": [
    "**NOTE**: When your Jupyter notebook is open, double-click on this Markdown cell! You can delete this text and put your answer to the previous problem in here."
   ]
  },
  {
   "cell_type": "code",
   "execution_count": null,
   "metadata": {},
   "outputs": [],
   "source": [
    "# Non-code answer\n",
    "# Expected revenue total / Expected revenue by user type\n",
    "# Count of user types\n",
    "# Average number of loot boxes purchased by users\n",
    "# Total number of loot boxes purchased by users\n",
    "# Ratio of low value users to high value users"
   ]
  },
  {
   "cell_type": "markdown",
   "metadata": {},
   "source": [
    "#### 5. Your boss asks \"How many loot boxes does it take before someone gets their first elixir?\" Using `np.random.choice`, simulate how many loot boxes it takes somone to get their first elixir. \n",
    "- Start an empty list.\n",
    "- Use control flow to have someone open loot boxes repeatedly.\n",
    "- Once they open a loot box containing an elixir, record the number of loot boxes it took in the empty list.\n",
    "- Repeat this process 100,000 times. \n",
    "\n",
    "This simulates how long it takes for someone to open a loot box containing elixir. Share the 5th, 25th, 50th, 75th, and 95th percentiles.\n",
    "\n",
    "> You may find [this documentation](https://docs.scipy.org/doc/numpy/reference/generated/numpy.random.choice.html)  and [this documentation](https://docs.scipy.org/doc/numpy/reference/generated/numpy.percentile.html) helpful."
   ]
  },
  {
   "cell_type": "code",
   "execution_count": 16,
   "metadata": {},
   "outputs": [],
   "source": [
    "import numpy as np\n",
    "\n",
    "# Set random seed for reproducibility\n",
    "np.random.seed(42)\n",
    "\n",
    "# Create empty list to collecht how long until each elixir is found\n",
    "times_until_elixir = []\n",
    "\n",
    "# Possible outcomes from opening a loot box\n",
    "loot_box = ['elixir', 'nothing']\n",
    "\n",
    "# loop through 100_000 loot box openings (experiment)\n",
    "for i in range(100_000):\n",
    "    turns = 0\n",
    "\n",
    "    while True:\n",
    "        opened_loot_box = np.random.choice(loot_box, p = [0.15, 0.85])\n",
    "\n",
    "        turns +=1\n",
    "\n",
    "        # If we find an elixir, add turns to the empty list called 'times_until_elixir'\n",
    "        if opened_loot_box == 'elixir':\n",
    "            times_until_elixir.append(turns)\n",
    "            break"
   ]
  },
  {
   "cell_type": "code",
   "execution_count": 17,
   "metadata": {},
   "outputs": [
    {
     "name": "stdout",
     "output_type": "stream",
     "text": [
      "The 5th percentile of number of turns to find an elixir is 1.\n",
      "The 25th percentile of number of turns to find an elixir is 2.\n",
      "The 50th percentile of number of turns to find an elixir is 5.\n",
      "The 75th percentile of number of turns to find an elixir is 9.\n",
      "The 95th percentile of number of turns to find an elixir is 19.\n"
     ]
    }
   ],
   "source": [
    "# Share the 5th, 25th, 50th, 75th, and 95th percentiles.\n",
    "print(f\"The 5th percentile of number of turns to find an elixir is {int(np.percentile(times_until_elixir, 5))}.\")\n",
    "print(f\"The 25th percentile of number of turns to find an elixir is {int(np.percentile(times_until_elixir, 25))}.\")\n",
    "print(f\"The 50th percentile of number of turns to find an elixir is {int(np.percentile(times_until_elixir, 50))}.\")\n",
    "print(f\"The 75th percentile of number of turns to find an elixir is {int(np.percentile(times_until_elixir, 75))}.\")\n",
    "print(f\"The 95th percentile of number of turns to find an elixir is {int(np.percentile(times_until_elixir, 95))}.\")"
   ]
  },
  {
   "cell_type": "markdown",
   "metadata": {},
   "source": [
    "**NOTE**: When your Jupyter notebook is open, double-click on this Markdown cell! You can delete this text and put your answer to the previous problem in here."
   ]
  },
  {
   "cell_type": "markdown",
   "metadata": {},
   "source": [
    "### Version 2\n",
    "\n",
    "After a substantial update to the game, suppose every loot box can be opened to reveal *one of four different* items:\n",
    "- magical elixir (occurs 1% of the time, most valuable)\n",
    "- golden pendant (occurs 9% of the time, valuable)\n",
    "- steel armor (occurs 30% of the time, semi-valuable)\n",
    "- bronze coin (occurs 60% of the time, least valuable)"
   ]
  },
  {
   "cell_type": "markdown",
   "metadata": {},
   "source": [
    "#### 6. Suppose you want repeat problem 5 above, but do that for the version 2 loot boxes so you can track how many loot boxes are needed to get each item? (e.g. You'd like to be able to say that on average it takes 10 trials to get a golden pendant, 3 trials to get steel armor, and so on.) What Python datatype is the best way to store this data? Why?"
   ]
  },
  {
   "cell_type": "markdown",
   "metadata": {},
   "source": [
    "**NOTE**: When your Jupyter notebook is open, double-click on this Markdown cell! You can delete this text and put your answer to the previous problem in here."
   ]
  },
  {
   "cell_type": "code",
   "execution_count": 18,
   "metadata": {},
   "outputs": [],
   "source": [
    "# Dictionary - allows us to store key-value pairs\n",
    "# Each key could be the name of the new items (magical elixir, bronze coin, etc.)\n",
    "# Each value could be the simulated list of how many turns are needed to find each particular item\n",
    "\n",
    "# Each key could be the name of the new items (magical elixir, bronze coin, etc.)\n",
    "# Each value being the probability might be an option"
   ]
  },
  {
   "cell_type": "markdown",
   "metadata": {},
   "source": [
    "#### 7. Suppose you and your boss want to measure whether \"Version 2\" is better than \"Version 1.\" What metrics do you think are important to measure? (Your answers will vary here - use your judgment!)"
   ]
  },
  {
   "cell_type": "markdown",
   "metadata": {},
   "source": [
    "**NOTE**: When your Jupyter notebook is open, double-click on this Markdown cell! You can delete this text and put your answer to the previous problem in here."
   ]
  },
  {
   "cell_type": "code",
   "execution_count": 40,
   "metadata": {},
   "outputs": [],
   "source": [
    "\n",
    "# Panda Key and Panda Wrangler Air...\n",
    "\n",
    "# 1. Total revenue\n",
    "# 2. Purchase(dollar,time) per user in a month\n",
    "# 3. Time spent on playing the game\n",
    "# 4. Number of game invites (Accept and Download the game / Ignore / Decline)\n",
    "# 5. Revenue generated from new lead"
   ]
  },
  {
   "cell_type": "code",
   "execution_count": 19,
   "metadata": {},
   "outputs": [],
   "source": [
    "# The Triplets...\n",
    "\n",
    "# Revenue: Track overall revenue generated by users in V2 vs. V1 from loot box purchasing.\n",
    "# Conversion rate : As we want to ensure there is more interest of purchasing the loot boxes.\n",
    "# Purchasing by items : Track items purchased in each items and identify whether the new items can help boost up the chance that user buys.\n",
    "# ARPU (Average Revenue Per User) : Monitor after adding the new items can help in turning low user values to ‘high value user’.\n",
    "# Screen time : This help to identify whether the users enjoy playing a game longer as they got new items added."
   ]
  },
  {
   "cell_type": "code",
   "execution_count": 20,
   "metadata": {},
   "outputs": [],
   "source": [
    "# Orr and Wee\n",
    "# * Total revenue\n",
    "# * Total purchase loot box number\n",
    "# * Total revenue of loot box per user\n",
    "# * Purchase number of loot box per user\n",
    "# * Repeat purchase rate per user"
   ]
  },
  {
   "cell_type": "code",
   "execution_count": 21,
   "metadata": {},
   "outputs": [],
   "source": [
    "# Fan and Gun\n",
    "# 1. Total Revenue from Users  -> V.1 there have 2 outcomes for users but V.2 there have more \n",
    "# than outcomes and make more persue users to buys the\n",
    "# 2. Total Boxes Purchased -> Making  more variety of play in games.\n",
    "# 3. Total Number of Users -> This make the retention rate for long term.\n",
    "# 4  Distribution of Purchases -> The distribution of purchases is expected to increase as a result \n",
    "# of the enhanced user experience and expanded options."
   ]
  },
  {
   "cell_type": "code",
   "execution_count": 22,
   "metadata": {},
   "outputs": [],
   "source": [
    "# Options...\n",
    "# We will likely want to measure the daily revenue for version 2 to compare to version 1. (Ideally, daily revenue in version 2 is higher!)\n",
    "# We may want to look at the number of users, or number of users active every day (or every week). \n",
    "# We may want to see how many loot boxes are earned in a given day.\n",
    "# We may want to compare the proportion of loot boxes that are purchased (instead of earned) in versions 1 and 2.\n",
    "# We may want to look at the rate of growth of revenue or number of users.\n",
    "# We may want to look at the average length of time a user spends on the game in versions 1 and 2."
   ]
  },
  {
   "cell_type": "code",
   "execution_count": null,
   "metadata": {},
   "outputs": [],
   "source": []
  },
  {
   "cell_type": "code",
   "execution_count": null,
   "metadata": {},
   "outputs": [],
   "source": []
  },
  {
   "cell_type": "code",
   "execution_count": null,
   "metadata": {},
   "outputs": [],
   "source": []
  }
 ],
 "metadata": {
  "kernelspec": {
   "display_name": "Python 3 (ipykernel)",
   "language": "python",
   "name": "python3"
  },
  "language_info": {
   "codemirror_mode": {
    "name": "ipython",
    "version": 3
   },
   "file_extension": ".py",
   "mimetype": "text/x-python",
   "name": "python",
   "nbconvert_exporter": "python",
   "pygments_lexer": "ipython3",
   "version": "3.12.4"
  }
 },
 "nbformat": 4,
 "nbformat_minor": 4
}
